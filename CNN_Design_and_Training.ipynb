{
  "cells": [
    {
      "cell_type": "code",
      "execution_count": null,
      "metadata": {
        "id": "OYRULwKaw_A6"
      },
      "outputs": [],
      "source": [
        "mkdir Particle_Images"
      ]
    },
    {
      "cell_type": "code",
      "execution_count": null,
      "metadata": {
        "id": "at-4-Xub8DYW",
        "colab": {
          "base_uri": "https://localhost:8080/"
        },
        "outputId": "35a661ca-5cfb-4cc8-da84-b619a7420f1b"
      },
      "outputs": [
        {
          "output_type": "stream",
          "name": "stdout",
          "text": [
            "/content/Particle_Images\n"
          ]
        }
      ],
      "source": [
        "cd Particle_Images"
      ]
    },
    {
      "cell_type": "code",
      "execution_count": null,
      "metadata": {
        "id": "BQGKM10j2CiQ"
      },
      "outputs": [],
      "source": [
        "mkdir data/"
      ]
    },
    {
      "cell_type": "code",
      "execution_count": null,
      "metadata": {
        "id": "rcK1wY4Qt_7Y",
        "colab": {
          "base_uri": "https://localhost:8080/"
        },
        "outputId": "d2385ff4-0e6c-43fd-a00e-be0b534b2cdd"
      },
      "outputs": [
        {
          "output_type": "stream",
          "name": "stdout",
          "text": [
            "--2025-03-21 13:40:48--  https://cernbox.cern.ch/index.php/s/FbXw3V4XNyYB3oA/download\n",
            "Resolving cernbox.cern.ch (cernbox.cern.ch)... 128.142.53.28, 128.142.53.35, 128.142.170.17, ...\n",
            "Connecting to cernbox.cern.ch (cernbox.cern.ch)|128.142.53.28|:443... connected.\n",
            "HTTP request sent, awaiting response... 301 Moved Permanently\n",
            "Location: /s/FbXw3V4XNyYB3oA/download [following]\n",
            "--2025-03-21 13:40:49--  https://cernbox.cern.ch/s/FbXw3V4XNyYB3oA/download\n",
            "Reusing existing connection to cernbox.cern.ch:443.\n",
            "HTTP request sent, awaiting response... 200 OK\n",
            "Length: unspecified [application/octet-stream]\n",
            "Saving to: ‘data/SingleElectronPt50_IMGCROPS_n249k_RHv1.hdf5’\n",
            "\n",
            "data/SingleElectron     [      <=>           ] 122.95M   916KB/s    in 24s     \n",
            "\n",
            "2025-03-21 13:41:12 (5.22 MB/s) - ‘data/SingleElectronPt50_IMGCROPS_n249k_RHv1.hdf5’ saved [128927319]\n",
            "\n",
            "--2025-03-21 13:41:12--  https://cernbox.cern.ch/index.php/s/AtBT8y4MiQYFcgc/download\n",
            "Resolving cernbox.cern.ch (cernbox.cern.ch)... 128.142.53.28, 128.142.53.35, 128.142.170.17, ...\n",
            "Connecting to cernbox.cern.ch (cernbox.cern.ch)|128.142.53.28|:443... connected.\n",
            "HTTP request sent, awaiting response... 301 Moved Permanently\n",
            "Location: /s/AtBT8y4MiQYFcgc/download [following]\n",
            "--2025-03-21 13:41:13--  https://cernbox.cern.ch/s/AtBT8y4MiQYFcgc/download\n",
            "Reusing existing connection to cernbox.cern.ch:443.\n",
            "HTTP request sent, awaiting response... 200 OK\n",
            "Length: unspecified [application/octet-stream]\n",
            "Saving to: ‘data/SinglePhotonPt50_IMGCROPS_n249k_RHv1.hdf5’\n",
            "\n",
            "data/SinglePhotonPt     [<=>                 ] 114.16M  2.31MB/s    in 16s     \n",
            "\n",
            "2025-03-21 13:41:29 (7.02 MB/s) - ‘data/SinglePhotonPt50_IMGCROPS_n249k_RHv1.hdf5’ saved [119703858]\n",
            "\n"
          ]
        }
      ],
      "source": [
        "#!/bin/bash\n",
        "!wget https://cernbox.cern.ch/index.php/s/FbXw3V4XNyYB3oA/download -O data/SingleElectronPt50_IMGCROPS_n249k_RHv1.hdf5\n",
        "!wget https://cernbox.cern.ch/index.php/s/AtBT8y4MiQYFcgc/download -O data/SinglePhotonPt50_IMGCROPS_n249k_RHv1.hdf5"
      ]
    },
    {
      "cell_type": "code",
      "execution_count": null,
      "metadata": {
        "id": "ZnLzC5paz0hb"
      },
      "outputs": [],
      "source": [
        "import numpy as np\n",
        "np.random.seed(42)\n",
        "import torch\n",
        "torch.manual_seed(42)\n",
        "torch.cuda.manual_seed_all\n",
        "import h5py\n",
        "from torch import nn\n",
        "from torch.utils.data import Dataset, DataLoader\n",
        "\n",
        "from sklearn.metrics import roc_curve, auc\n",
        "\n",
        "import matplotlib.pyplot as plt\n",
        "import torch.nn.functional as F\n",
        "from torchvision.models import resnet34, efficientnet_b7\n",
        "from torchvision import transforms\n",
        "import random"
      ]
    },
    {
      "cell_type": "code",
      "execution_count": null,
      "metadata": {
        "id": "HBsy7x5O8cWH",
        "colab": {
          "base_uri": "https://localhost:8080/"
        },
        "outputId": "b0bcebb8-41c7-464b-816a-5e7d3227ac0b"
      },
      "outputs": [
        {
          "output_type": "execute_result",
          "data": {
            "text/plain": [
              "device(type='cuda')"
            ]
          },
          "metadata": {},
          "execution_count": 96
        }
      ],
      "source": [
        "device = torch.device(\"cuda\" if torch.cuda.is_available() else \"cpu\")\n",
        "device"
      ]
    },
    {
      "cell_type": "code",
      "execution_count": null,
      "metadata": {
        "id": "ZzF8AHl_4yUA"
      },
      "outputs": [],
      "source": [
        "lr_init     = 1e-4    # Initial learning rate\n",
        "batch_size  = 128      # Training batch size\n",
        "num_samples = 211599 # Maximum of 211599\n",
        "train_size = int((0.8 * num_samples) // 1)\n",
        "valid_size = int((0.1 * num_samples) // 1)\n",
        "test_size = int((0.1 * num_samples) // 1) # Needs to be set to 21159 for final eval\n",
        "num_epochs = 10"
      ]
    },
    {
      "cell_type": "code",
      "execution_count": null,
      "metadata": {
        "id": "kr4QIMlt424u"
      },
      "outputs": [],
      "source": [
        "input_dir = 'data'\n",
        "decays = ['SinglePhotonPt50_IMGCROPS_n249k_RHv1', 'SingleElectronPt50_IMGCROPS_n249k_RHv1']\n",
        "\n",
        "def load_data(decays, start, stop):\n",
        "    global input_dir\n",
        "    dsets = [h5py.File('%s/%s.hdf5'%(input_dir,decay)) for decay in decays]\n",
        "    X = np.concatenate([dset['/X'][start:stop] for dset in dsets])\n",
        "    y = np.concatenate([dset['/y'][start:stop] for dset in dsets])\n",
        "    assert len(X) == len(y)\n",
        "    return X, y"
      ]
    },
    {
      "cell_type": "code",
      "execution_count": null,
      "metadata": {
        "id": "-RTXS58x46Fq"
      },
      "outputs": [],
      "source": [
        "# Set range of training set\n",
        "train_start, train_stop = 0, train_size\n",
        "assert train_stop > train_start\n",
        "X_train, y_train = load_data(decays,train_start,train_stop)\n",
        "\n",
        "# Set range of validation set\n",
        "valid_start, valid_stop = train_stop, train_stop+valid_size\n",
        "assert valid_stop  >  valid_start\n",
        "assert valid_start >= train_stop\n",
        "X_valid, y_valid = load_data(decays,valid_start,valid_stop)\n",
        "\n",
        "# Set range of test set\n",
        "test_start, test_stop = valid_stop, valid_stop+test_size\n",
        "assert test_stop  >  test_start\n",
        "assert test_start >= valid_stop\n",
        "X_test, y_test = load_data(decays,test_start,test_stop)\n",
        "\n",
        "samples_requested = len(decays) * (train_size + valid_size + test_size)\n",
        "samples_available = len(y_train) + len(y_valid) + len(y_test)\n",
        "assert samples_requested == samples_available\n",
        "\n",
        "X_train = np.moveaxis(X_train, 3, 1)\n",
        "X_valid = np.moveaxis(X_valid, 3, 1)\n",
        "X_test = np.moveaxis(X_test, 3, 1)"
      ]
    },
    {
      "cell_type": "code",
      "execution_count": null,
      "metadata": {
        "id": "e_IDs16U52-C",
        "colab": {
          "base_uri": "https://localhost:8080/",
          "height": 251
        },
        "outputId": "16591446-46fd-44e0-8675-ced6b48f1888"
      },
      "outputs": [
        {
          "output_type": "display_data",
          "data": {
            "text/plain": [
              "<Figure size 640x480 with 2 Axes>"
            ],
            "image/png": "[encoded data removed]"
          },
          "metadata": {}
        }
      ],
      "source": [
        "plt.figure(1)\n",
        "\n",
        "plt.subplot(221)\n",
        "plt.imshow(X_train[1,0,:,:])\n",
        "plt.title(\"Channel 0: Energy\")  # Energy\n",
        "plt.grid(True)\n",
        "\n",
        "plt.subplot(222)\n",
        "plt.imshow(X_train[1,1,:,:])\n",
        "plt.title(\"Channel 1: Time\")  # Time\n",
        "plt.grid(True)\n",
        "\n",
        "\n",
        "plt.show()"
      ]
    },
    {
      "cell_type": "code",
      "source": [
        "def train_and_validate(train_loader, val_loader, model, optimizer, criterion, num_epochs, metric=None, scheduler=None, device='cpu'):\n",
        "    history = {\n",
        "        'epoch': [],\n",
        "        'train_loss': [],\n",
        "        'train_metric': [],\n",
        "        'val_loss': [],\n",
        "        'val_metric': [],\n",
        "        'learning_rate': []\n",
        "    }  # Initialize a dictionary to store epoch-wise results\n",
        "\n",
        "    model.to(device)  # Move the model to the specified device\n",
        "\n",
        "    with torch.no_grad():\n",
        "        proper_dtype = torch.int64\n",
        "        X,y = next(iter(train_loader))\n",
        "        X = X.to(device)\n",
        "        y = y.to(device)\n",
        "        try:\n",
        "            loss = criterion(model(X), y.to(proper_dtype))\n",
        "        except:\n",
        "            try:\n",
        "                proper_dtype = torch.float32\n",
        "                loss = criterion(model(X), y.to(proper_dtype))\n",
        "            except:\n",
        "                print(\"No valid data-type could be found\")\n",
        "\n",
        "    for epoch in range(num_epochs):\n",
        "        model.train()  # Set the model to training mode\n",
        "        epoch_loss = 0.0  # Initialize the epoch loss and metric values\n",
        "        epoch_metric = 0.0\n",
        "\n",
        "        # Training loop\n",
        "        for X, y in train_loader:\n",
        "            X = X.to(device)\n",
        "            y = y.to(device)\n",
        "            y = y.to(proper_dtype)\n",
        "            optimizer.zero_grad()  # Clear existing gradients\n",
        "            outputs = model(X)  # Make predictions\n",
        "            loss = criterion(outputs, y)  # Compute the loss\n",
        "            loss.backward()  # Compute gradients\n",
        "            optimizer.step()  # Update model parameters\n",
        "\n",
        "            epoch_loss += loss.item()\n",
        "\n",
        "            # THESE LINES HAVE BEEN UPDATED TO ACCOUNT FOR DEFAULT ARGUMENTS\n",
        "            if metric is not None:\n",
        "                epoch_metric += metric(outputs, y)\n",
        "            else:\n",
        "                epoch_metric += 0.0\n",
        "\n",
        "        # Average training loss and metric\n",
        "        epoch_loss /= len(train_loader)\n",
        "        epoch_metric /= len(train_loader)\n",
        "\n",
        "        # Validation loop\n",
        "        model.eval()  # Set the model to evaluation mode\n",
        "        with torch.no_grad():  # Disable gradient calculation\n",
        "            val_loss = 0.0\n",
        "            val_metric = 0.0\n",
        "            for X_val, y_val in val_loader:\n",
        "                X_val = X_val.to(device)\n",
        "                y_val = y_val.to(device)\n",
        "                y_val = y_val.to(proper_dtype)\n",
        "                outputs_val = model(X_val)  # Make predictions\n",
        "                val_loss += criterion(outputs_val, y_val).item()  # Compute loss\n",
        "                if metric is not None:\n",
        "                    val_metric += metric(outputs_val, y_val)\n",
        "                else:\n",
        "                    val_metric += 0.0\n",
        "\n",
        "            val_loss /= len(val_loader)\n",
        "            val_metric /= len(val_loader)\n",
        "\n",
        "        # Append epoch results to history\n",
        "        history['epoch'].append(epoch)\n",
        "        history['train_loss'].append(epoch_loss)\n",
        "        history['train_metric'].append(epoch_metric)\n",
        "        history['val_loss'].append(val_loss)\n",
        "        history['val_metric'].append(val_metric)\n",
        "        history['learning_rate'].append(optimizer.param_groups[0]['lr'])\n",
        "\n",
        "        print(f'Epoch [{epoch+1}/{num_epochs}], Train Loss: {epoch_loss:.4f}, '\n",
        "              f'Train Metric: {epoch_metric:.4f}, Val Loss: {val_loss:.4f}, '\n",
        "              f'Val Metric: {val_metric:.4f}')\n",
        "\n",
        "        if scheduler is not None:\n",
        "            scheduler.step(val_loss)\n",
        "\n",
        "    return history, model"
      ],
      "metadata": {
        "id": "oe7YASKr8Eef"
      },
      "execution_count": null,
      "outputs": []
    },
    {
      "cell_type": "code",
      "source": [
        "def test_model(model, data_loader, criterion, metric=None, device='cpu'):\n",
        "    model.to(device)  # Move the model to the specified device\n",
        "\n",
        "    model.eval()  # Set the model to evaluation mode\n",
        "\n",
        "    total_loss = 0.0  # Initialize the total loss and metric values\n",
        "    total_metric = 0.0\n",
        "\n",
        "    with torch.no_grad():\n",
        "        proper_dtype = torch.int64\n",
        "        X,y = next(iter(data_loader))\n",
        "        X = X.to(device)\n",
        "        y = y.to(device)\n",
        "        try:\n",
        "            loss = criterion(model(X), y.to(proper_dtype))\n",
        "        except:\n",
        "            try:\n",
        "                proper_dtype = torch.float32\n",
        "                loss = criterion(model(X), y.to(proper_dtype))\n",
        "            except:\n",
        "                print(\"No valid data-type could be found\")\n",
        "\n",
        "\n",
        "    with torch.no_grad():  # Disable gradient tracking\n",
        "        for batch in data_loader:\n",
        "            X, y = batch\n",
        "            X = X.to(device)\n",
        "            y = y.to(device)\n",
        "            y = y.to(proper_dtype)\n",
        "            # Pass the data to the model and make predictions\n",
        "            outputs = model(X)\n",
        "\n",
        "            # Compute the loss\n",
        "            loss = criterion(outputs, y)\n",
        "\n",
        "            # Add the loss and metric for the batch to the total values\n",
        "            total_loss += loss.item()\n",
        "\n",
        "            if metric is not None:\n",
        "                total_metric += metric(outputs, y)\n",
        "            else:\n",
        "                total_metric += 0.0\n",
        "\n",
        "    # Average loss and metric for the entire dataset\n",
        "    avg_loss = total_loss / len(data_loader)\n",
        "    avg_metric = total_metric / len(data_loader)\n",
        "\n",
        "    print(f'Test Loss: {avg_loss:.4f}, Test Metric: {avg_metric:.4f}')\n",
        "\n",
        "    return avg_loss, avg_metric"
      ],
      "metadata": {
        "id": "rpB7q8rF8JRJ"
      },
      "execution_count": null,
      "outputs": []
    },
    {
      "cell_type": "code",
      "source": [
        "def accuracy_metric(pred, target):\n",
        "    if len(pred.shape) == 1:\n",
        "        accuracy = torch.sum(torch.eq(pred > 0.5, target)).item() / len(pred)\n",
        "    else:\n",
        "        pred = pred.argmax(dim=1)\n",
        "        accuracy = torch.sum(pred == target).item() / len(pred)\n",
        "    return accuracy"
      ],
      "metadata": {
        "id": "G1i2meDF8MS8"
      },
      "execution_count": null,
      "outputs": []
    },
    {
      "cell_type": "code",
      "source": [
        "class DualChannelResNet(nn.Module):\n",
        "    def __init__(self, num_classes=2):\n",
        "        super(DualChannelResNet, self).__init__()\n",
        "\n",
        "        self.resnet_channel1 = resnet34()\n",
        "        self.resnet_channel2 = resnet34()\n",
        "\n",
        "        self.resnet_channel1.conv1 = nn.Conv2d(1, 64, kernel_size=7, stride=2, padding=3, bias=False)\n",
        "        self.resnet_channel2.conv1 = nn.Conv2d(1, 64, kernel_size=7, stride=2, padding=3, bias=False)\n",
        "\n",
        "\n",
        "        feature_dim = self.resnet_channel1.fc.in_features\n",
        "\n",
        "        self.resnet_channel1.fc = nn.Identity()\n",
        "        self.resnet_channel2.fc = nn.Identity()\n",
        "\n",
        "        self.classifier = nn.Sequential(\n",
        "            nn.Linear(feature_dim * 2, 1024),\n",
        "            nn.ReLU(),\n",
        "            nn.Linear(1024, 512),\n",
        "            nn.ReLU(),\n",
        "            nn.Linear(512, num_classes)\n",
        "        )\n",
        "\n",
        "    def forward(self, x):\n",
        "\n",
        "        x1 = x[:, 0:1, :, :]  # Channel 1\n",
        "        x2 = x[:, 1:2, :, :]  # Channel 2\n",
        "\n",
        "\n",
        "        features1 = self.resnet_channel1(x1)\n",
        "        features2 = self.resnet_channel2(x2)\n",
        "\n",
        "        combined_features = torch.cat((features1, features2), dim=1)\n",
        "\n",
        "        output = self.classifier(combined_features)\n",
        "\n",
        "        return output"
      ],
      "metadata": {
        "id": "iBDUIxGZTuac"
      },
      "execution_count": null,
      "outputs": []
    },
    {
      "cell_type": "code",
      "source": [
        "class ClassificationDataset(Dataset):\n",
        "    def __init__(self, X, y):\n",
        "        self.X = torch.from_numpy(X.copy()).float()\n",
        "        self.y = torch.from_numpy(y.copy()).long()\n",
        "    def __len__(self):\n",
        "        return len(self.X)\n",
        "    def __getitem__(self, idx):\n",
        "        return self.X[idx], self.y[idx]\n",
        "\n",
        "train_data = ClassificationDataset(X_train, y_train)\n",
        "valid_data = ClassificationDataset(X_valid, y_valid)\n",
        "test_data = ClassificationDataset(X_test, y_test)\n",
        "\n",
        "train_loader = DataLoader(train_data, batch_size=batch_size, shuffle=True)\n",
        "test_loader = DataLoader(test_data, batch_size=batch_size, shuffle=False)\n",
        "valid_loader = DataLoader(valid_data, batch_size=batch_size, shuffle=False)"
      ],
      "metadata": {
        "id": "cfMGEq05qMom"
      },
      "execution_count": null,
      "outputs": []
    },
    {
      "cell_type": "code",
      "source": [
        "model = DualChannelResNet()"
      ],
      "metadata": {
        "id": "jhieZH65AjD8"
      },
      "execution_count": null,
      "outputs": []
    },
    {
      "cell_type": "code",
      "source": [
        "optimizer = torch.optim.AdamW(model.parameters(), lr=0.001, weight_decay= 0.001)\n",
        "criterion = nn.CrossEntropyLoss()\n",
        "num_epochs = 15\n",
        "scheduler = torch.optim.lr_scheduler.ReduceLROnPlateau(optimizer, factor=0.2, patience=2)\n",
        "history, model = train_and_validate(train_loader, valid_loader, model, optimizer, criterion, num_epochs, metric=accuracy_metric, scheduler=scheduler, device=device)"
      ],
      "metadata": {
        "id": "gmgQgGCxnQSR",
        "colab": {
          "base_uri": "https://localhost:8080/"
        },
        "outputId": "ebd99ccc-fc21-4df2-8235-10c481a3e314"
      },
      "execution_count": null,
      "outputs": [
        {
          "output_type": "stream",
          "name": "stdout",
          "text": [
            "Epoch [1/15], Train Loss: 0.5849, Train Metric: 0.7000, Val Loss: 0.5622, Val Metric: 0.7199\n",
            "Epoch [2/15], Train Loss: 0.5635, Train Metric: 0.7162, Val Loss: 0.5681, Val Metric: 0.7115\n",
            "Epoch [3/15], Train Loss: 0.5573, Train Metric: 0.7208, Val Loss: 0.5525, Val Metric: 0.7245\n",
            "Epoch [4/15], Train Loss: 0.5535, Train Metric: 0.7246, Val Loss: 0.5462, Val Metric: 0.7319\n",
            "Epoch [5/15], Train Loss: 0.5493, Train Metric: 0.7267, Val Loss: 0.5587, Val Metric: 0.7193\n",
            "Epoch [6/15], Train Loss: 0.5474, Train Metric: 0.7288, Val Loss: 0.5569, Val Metric: 0.7236\n",
            "Epoch [7/15], Train Loss: 0.5447, Train Metric: 0.7305, Val Loss: 0.5719, Val Metric: 0.7061\n",
            "Epoch [8/15], Train Loss: 0.5354, Train Metric: 0.7369, Val Loss: 0.5353, Val Metric: 0.7352\n",
            "Epoch [9/15], Train Loss: 0.5337, Train Metric: 0.7379, Val Loss: 0.5329, Val Metric: 0.7377\n",
            "Epoch [10/15], Train Loss: 0.5327, Train Metric: 0.7383, Val Loss: 0.5322, Val Metric: 0.7390\n",
            "Epoch [11/15], Train Loss: 0.5319, Train Metric: 0.7389, Val Loss: 0.5327, Val Metric: 0.7366\n",
            "Epoch [12/15], Train Loss: 0.5312, Train Metric: 0.7394, Val Loss: 0.5318, Val Metric: 0.7385\n",
            "Epoch [13/15], Train Loss: 0.5301, Train Metric: 0.7402, Val Loss: 0.5353, Val Metric: 0.7349\n",
            "Epoch [14/15], Train Loss: 0.5295, Train Metric: 0.7402, Val Loss: 0.5312, Val Metric: 0.7395\n",
            "Epoch [15/15], Train Loss: 0.5287, Train Metric: 0.7405, Val Loss: 0.5301, Val Metric: 0.7406\n"
          ]
        }
      ]
    },
    {
      "cell_type": "code",
      "source": [
        "# Evaluate on validation set\n",
        "score = test_model(model, valid_loader, criterion, metric=accuracy_metric, device=device)\n",
        "print('\\nValidation loss / accuracy: %0.4f / %0.4f'%(score[0], score[1]))\n",
        "# IF YOUR MODEL IS TOO LARGE THEN USE THE FOLLOWING TO KEEP THE MODEL ON GPU\n",
        "# AND THE DATA ON CPU\n",
        "model.to(device)\n",
        "model.eval()\n",
        "with torch.no_grad():\n",
        "  y_pred = [model(x[0].to(device)).to('cpu').detach().numpy() for x in valid_loader]\n",
        "labels = [x[1] for x in valid_loader]\n",
        "y_pred = np.concatenate(y_pred, axis=0)\n",
        "labels = np.concatenate(labels, axis=0)\n",
        "# Extract probabilities for the positive class (index 1)\n",
        "fpr, tpr, _ = roc_curve(labels, y_pred[:, 1])  # Changed this line\n",
        "roc_auc = auc(fpr, tpr)\n",
        "print('Validation ROC AUC:', roc_auc)\n",
        "\n",
        "# Evaluate on test set\n",
        "score = test_model(model, test_loader, criterion, metric=accuracy_metric, device=device)\n",
        "print('\\nTest loss / accuracy: %0.4f / %0.4f'%(score[0], score[1]))\n",
        "# IF YOUR MODEL IS TOO LARGE THEN USE THE FOLLOWING TO KEEP THE MODEL ON GPU\n",
        "# AND THE DATA ON CPU\n",
        "model.to(device)\n",
        "model.eval()\n",
        "with torch.no_grad():\n",
        "  y_pred = [model(x[0].to(device)).to('cpu').detach().numpy() for x in test_loader]\n",
        "labels = [x[1] for x in test_loader]\n",
        "y_pred = np.concatenate(y_pred, axis=0)\n",
        "labels = np.concatenate(labels, axis=0)\n",
        "# Extract probabilities for the positive class (index 1)\n",
        "fpr, tpr, _ = roc_curve(labels, y_pred[:, 1])  # Changed this line\n",
        "roc_auc = auc(fpr, tpr)\n",
        "print('Test ROC AUC:', roc_auc)"
      ],
      "metadata": {
        "id": "U-VoOyrLlzKC",
        "colab": {
          "base_uri": "https://localhost:8080/"
        },
        "outputId": "e3d96fb3-34f2-4522-e49c-2ed912551c06"
      },
      "execution_count": null,
      "outputs": [
        {
          "output_type": "stream",
          "name": "stdout",
          "text": [
            "Test Loss: 0.5301, Test Metric: 0.7406\n",
            "\n",
            "Validation loss / accuracy: 0.5301 / 0.7406\n",
            "Validation ROC AUC: 0.8110771127004539\n",
            "Test Loss: 0.5334, Test Metric: 0.7373\n",
            "\n",
            "Test loss / accuracy: 0.5334 / 0.7373\n",
            "Test ROC AUC: 0.8086061803956267\n"
          ]
        }
      ]
    },
    {
      "cell_type": "code",
      "source": [
        "plt.plot([0, 1], [0, 1], 'k--')\n",
        "#plt.legend(loc=2, prop={'size': 15})\n",
        "plt.plot(fpr, tpr, label='Model 1 (ROC-AUC = {:.3f})'.format(roc_auc))\n",
        "plt.xlabel('False positive rate')\n",
        "plt.ylabel('True positive rate')\n",
        "plt.title('ROC curve')\n",
        "plt.legend(loc='best')\n",
        "plt.show()"
      ],
      "metadata": {
        "id": "H42ke1CXydJt",
        "colab": {
          "base_uri": "https://localhost:8080/",
          "height": 472
        },
        "outputId": "759808f1-4a09-4185-abf5-98c0b9ed8685"
      },
      "execution_count": null,
      "outputs": [
        {
          "output_type": "display_data",
          "data": {
            "text/plain": [
              "<Figure size 640x480 with 1 Axes>"
            ],
            "image/png": "[encoded data removed]"
          },
          "metadata": {}
        }
      ]
    }
  ],
  "metadata": {
    "colab": {
      "provenance": [],
      "gpuType": "A100"
    },
    "kernelspec": {
      "display_name": "Python 3",
      "name": "python3"
    },
    "language_info": {
      "codemirror_mode": {
        "name": "ipython",
        "version": 3
      },
      "file_extension": ".py",
      "mimetype": "text/x-python",
      "name": "python",
      "nbconvert_exporter": "python",
      "pygments_lexer": "ipython3",
      "version": "3.10.0"
    },
    "accelerator": "GPU"
  },
  "nbformat": 4,
  "nbformat_minor": 0
}
